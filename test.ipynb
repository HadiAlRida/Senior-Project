{
 "cells": [
  {
   "cell_type": "code",
   "execution_count": 1,
   "metadata": {},
   "outputs": [],
   "source": [
    "from database_handler import *\n",
    "import numpy as np"
   ]
  },
  {
   "cell_type": "code",
   "execution_count": 2,
   "metadata": {},
   "outputs": [],
   "source": [
    "df=pd.read_json(r\"C:\\Users\\Administrator\\Senior-Project\\data got\\data SP\\important\\characters.json\")"
   ]
  },
  {
   "cell_type": "code",
   "execution_count": 3,
   "metadata": {},
   "outputs": [
    {
     "name": "stdout",
     "output_type": "stream",
     "text": [
      "         id       characterName          characterLink          actorName  \\\n",
      "2    540081       Aeron Greyjoy  /character/ch0540081/      Michael Feast   \n",
      "3    541362  Aerys II Targaryen  /character/ch0541362/      David Rintoul   \n",
      "4    544520                Akho  /character/ch0544520/         Chuku Modu   \n",
      "5    246938      Alliser Thorne  /character/ch0246938/         Owen Teale   \n",
      "6    305012     Alton Lannister  /character/ch0305012/        Karl Davies   \n",
      "..      ...                 ...                    ...                ...   \n",
      "377  470706    Yezzan zo Qaggaz  /character/ch0470706/       Enzo Cilenti   \n",
      "378  304492             Ygritte  /character/ch0304492/        Rose Leslie   \n",
      "379  524546          Yohn Royce  /character/ch0524546/  Rupert Vansittart   \n",
      "380  251493               Yoren  /character/ch0251493/      Francis Magee   \n",
      "388  540870             Zanrush  /character/ch0540870/   Gerald Lepkowski   \n",
      "\n",
      "            actorLink  houseName royal parents  \\\n",
      "2    /name/nm0269923/    Greyjoy   NaN     NaN   \n",
      "3    /name/nm0727778/  Targaryen  True     NaN   \n",
      "4    /name/nm6729880/        NaN   NaN     NaN   \n",
      "5    /name/nm0853583/        NaN   NaN     NaN   \n",
      "6    /name/nm0203801/  Lannister   NaN     NaN   \n",
      "..                ...        ...   ...     ...   \n",
      "377  /name/nm0162281/        NaN   NaN     NaN   \n",
      "378  /name/nm3310211/        NaN   NaN     NaN   \n",
      "379  /name/nm0889338/        NaN   NaN     NaN   \n",
      "380  /name/nm0535837/        NaN   NaN     NaN   \n",
      "388  /name/nm0503319/        NaN   NaN     NaN   \n",
      "\n",
      "                           siblings           killedBy  ...  \\\n",
      "2    [Balon Greyjoy, Euron Greyjoy]                NaN  ...   \n",
      "3               [Rhaella Targaryen]  [Jaime Lannister]  ...   \n",
      "4                               NaN   [Daario Naharis]  ...   \n",
      "5                               NaN         [Jon Snow]  ...   \n",
      "6                               NaN  [Jaime Lannister]  ...   \n",
      "..                              ...                ...  ...   \n",
      "377                             NaN                NaN  ...   \n",
      "378                             NaN             [Olly]  ...   \n",
      "379                             NaN                NaN  ...   \n",
      "380                             NaN      [Amory Lorch]  ...   \n",
      "388                             NaN                NaN  ...   \n",
      "\n",
      "          marriedEngaged serves kingsguard guardedBy actors guardianOf allies  \\\n",
      "2                    NaN    NaN        NaN       NaN    NaN        NaN    NaN   \n",
      "3    [Rhaella Targaryen]    NaN        NaN       NaN    NaN        NaN    NaN   \n",
      "4                    NaN    NaN        NaN       NaN    NaN        NaN    NaN   \n",
      "5                    NaN    NaN        NaN       NaN    NaN        NaN    NaN   \n",
      "6                    NaN    NaN        NaN       NaN    NaN        NaN    NaN   \n",
      "..                   ...    ...        ...       ...    ...        ...    ...   \n",
      "377                  NaN    NaN        NaN       NaN    NaN        NaN    NaN   \n",
      "378           [Jon Snow]    NaN        NaN       NaN    NaN        NaN    NaN   \n",
      "379                  NaN    NaN        NaN       NaN    NaN        NaN    NaN   \n",
      "380                  NaN    NaN        NaN       NaN    NaN        NaN    NaN   \n",
      "388                  NaN    NaN        NaN       NaN    NaN        NaN    NaN   \n",
      "\n",
      "    abductedBy abducted sibling  \n",
      "2          NaN      NaN     NaN  \n",
      "3          NaN      NaN     NaN  \n",
      "4          NaN      NaN     NaN  \n",
      "5          NaN      NaN     NaN  \n",
      "6          NaN      NaN     NaN  \n",
      "..         ...      ...     ...  \n",
      "377        NaN      NaN     NaN  \n",
      "378        NaN      NaN     NaN  \n",
      "379        NaN      NaN     NaN  \n",
      "380        NaN      NaN     NaN  \n",
      "388        NaN      NaN     NaN  \n",
      "\n",
      "[254 rows x 26 columns]\n"
     ]
    },
    {
     "name": "stderr",
     "output_type": "stream",
     "text": [
      "C:\\Users\\Administrator\\AppData\\Local\\Temp\\ipykernel_8680\\3938042581.py:12: SettingWithCopyWarning: \n",
      "A value is trying to be set on a copy of a slice from a DataFrame.\n",
      "Try using .loc[row_indexer,col_indexer] = value instead\n",
      "\n",
      "See the caveats in the documentation: https://pandas.pydata.org/pandas-docs/stable/user_guide/indexing.html#returning-a-view-versus-a-copy\n",
      "  df_cleaned['id'] = ids\n"
     ]
    }
   ],
   "source": [
    "import json\n",
    "import pandas as pd\n",
    "\n",
    "file_path = r\"C:\\Users\\Administrator\\Senior-Project\\data got\\data SP\\important\\characters.json\"\n",
    "with open(file_path, 'r') as file:\n",
    "    data = json.load(file)\n",
    "normalized_data = pd.json_normalize(data['characters'])\n",
    "df = pd.DataFrame(normalized_data)\n",
    "df_cleaned = df.dropna(subset=['characterImageFull','characterLink' ])\n",
    "actor_links = list(df_cleaned.characterLink)\n",
    "ids = [int(link.split('/character/ch')[1].rstrip('/')) for link in actor_links]\n",
    "df_cleaned['id'] = ids\n",
    "column_to_move = 'id'\n",
    "new_position = 0\n",
    "df_cleaned.insert(new_position, column_to_move, df_cleaned.pop(column_to_move))\n",
    "connection=create_connection()\n",
    "query=return_create_statement_from_df(df_cleaned,\"characters\",\"character_info\")\n",
    "execute_query(connection,query)\n",
    "query2=return_insert_into_sql_statement_from_df(df_cleaned,\"characters\",\"character_info\")\n",
    "for queryy in query2:\n",
    "    execute_query(connection,queryy)\n"
   ]
  },
  {
   "cell_type": "code",
   "execution_count": 5,
   "metadata": {},
   "outputs": [],
   "source": [
    "connection=create_connection()\n",
    "query=return_create_statement_from_df(df_cleaned,\"characters\",\"character_info\")\n",
    "execute_query(connection,query)\n",
    "query2=return_insert_into_sql_statement_from_df(df_cleaned,\"characters\",\"character_info\")\n",
    "for queryy in query2:\n",
    "    execute_query(connection,queryy)\n"
   ]
  }
 ],
 "metadata": {
  "kernelspec": {
   "display_name": "Python 3",
   "language": "python",
   "name": "python3"
  },
  "language_info": {
   "codemirror_mode": {
    "name": "ipython",
    "version": 3
   },
   "file_extension": ".py",
   "mimetype": "text/x-python",
   "name": "python",
   "nbconvert_exporter": "python",
   "pygments_lexer": "ipython3",
   "version": "3.11.4"
  }
 },
 "nbformat": 4,
 "nbformat_minor": 2
}
