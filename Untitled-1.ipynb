{
 "cells": [
  {
   "cell_type": "code",
   "execution_count": 1,
   "metadata": {},
   "outputs": [],
   "source": [
    "import cv2\n",
    "\n",
    "# Load the image\n",
    "image = cv2.imread('group-of-multiethnic-students-posing-sitting-on-bench-learning-outside-2CE840M.jpg')\n",
    "\n",
    "# Check if the image was loaded successfully\n",
    "if image is None:\n",
    "    print(\"Error: Could not load image\")\n",
    "else:\n",
    "    # Convert the image to grayscale\n",
    "    gray_image = cv2.cvtColor(image, cv2.COLOR_BGR2GRAY)\n",
    "\n",
    "    # Perform face detection or other operations on the grayscale image\n",
    "    face_cascade = cv2.CascadeClassifier(cv2.data.haarcascades + 'haarcascade_frontalface_default.xml')\n",
    "    faces = face_cascade.detectMultiScale(gray_image, scaleFactor=1.1, minNeighbors=5, minSize=(30, 30))\n",
    "\n"
   ]
  },
  {
   "cell_type": "code",
   "execution_count": 2,
   "metadata": {},
   "outputs": [],
   "source": [
    "# Adjust scaleFactor, minNeighbors, and minSize parameters\n",
    "faces = face_cascade.detectMultiScale(gray_image, scaleFactor=1.2, minNeighbors=5, minSize=(30, 30))\n",
    "\n",
    "# Post-processing: Merge overlapping detections\n",
    "merged_faces = []\n",
    "for (x, y, w, h) in faces:\n",
    "    overlapped = False\n",
    "    for (x_, y_, w_, h_) in merged_faces:\n",
    "        if x < x_ + w_ and x_ < x + w and y < y_ + h_ and y_ < y + h:\n",
    "            merged_faces.remove((x_, y_, w_, h_))\n",
    "            new_x = min(x, x_)\n",
    "            new_y = min(y, y_)\n",
    "            new_w = max(x + w, x_ + w_) - new_x\n",
    "            new_h = max(y + h, y_ + h_) - new_y\n",
    "            merged_faces.append((new_x, new_y, new_w, new_h))\n",
    "            overlapped = True\n",
    "            break\n",
    "    if not overlapped:\n",
    "        merged_faces.append((x, y, w, h))\n",
    "\n",
    "# Use the merged faces for further processing\n"
   ]
  },
  {
   "cell_type": "code",
   "execution_count": 3,
   "metadata": {},
   "outputs": [
    {
     "data": {
      "text/plain": [
       "array([[794, 720,  90,  90],\n",
       "       [637, 213,  81,  81],\n",
       "       [831, 232,  79,  79],\n",
       "       [269, 210,  86,  86],\n",
       "       [444, 236,  86,  86],\n",
       "       [987, 247,  91,  91],\n",
       "       [550, 119,  53,  53]])"
      ]
     },
     "execution_count": 3,
     "metadata": {},
     "output_type": "execute_result"
    }
   ],
   "source": [
    "faces"
   ]
  },
  {
   "cell_type": "code",
   "execution_count": 4,
   "metadata": {},
   "outputs": [
    {
     "data": {
      "image/png": "[encoded data removed]",
      "text/plain": [
       "<Figure size 640x480 with 1 Axes>"
      ]
     },
     "metadata": {},
     "output_type": "display_data"
    }
   ],
   "source": [
    "import cv2\n",
    "import networkx as nx\n",
    "import matplotlib.pyplot as plt\n",
    "\n",
    "# Load the image\n",
    "image = cv2.imread('group-of-multiethnic-students-posing-sitting-on-bench-learning-outside-2CE840M.jpg')\n",
    "\n",
    "# Check if the image was loaded successfully\n",
    "if image is None:\n",
    "    print(\"Error: Could not load image\")\n",
    "else:\n",
    "    # Convert the image to grayscale\n",
    "    gray_image = cv2.cvtColor(image, cv2.COLOR_BGR2GRAY)\n",
    "\n",
    "    # Perform face detection\n",
    "    face_cascade = cv2.CascadeClassifier(cv2.data.haarcascades + 'haarcascade_frontalface_default.xml')\n",
    "    faces = face_cascade.detectMultiScale(gray_image, scaleFactor=1.1, minNeighbors=5, minSize=(30, 30))\n",
    "\n",
    "    # Create a graph\n",
    "    G = nx.Graph()\n",
    "\n",
    "    # Add nodes (faces) to the graph\n",
    "    for i, (x, y, w, h) in enumerate(faces):\n",
    "        G.add_node(i, pos=(x, y), size=(w, h))\n",
    "\n",
    "    # Add edges between nodes based on some criteria (e.g., proximity)\n",
    "    for i in range(len(faces)):\n",
    "        for j in range(i+1, len(faces)):\n",
    "            dist = ((faces[i][0] - faces[j][0])**2 + (faces[i][1] - faces[j][1])**2)**0.5\n",
    "            if dist < 200:  # Adjust this threshold as needed\n",
    "                G.add_edge(i, j)\n",
    "\n",
    "    # Draw the graph\n",
    "    pos = nx.get_node_attributes(G, 'pos')\n",
    "    node_size = nx.get_node_attributes(G, 'size')\n",
    "    nx.draw(G, pos, with_labels=False, node_size=[s[0]*s[1]/100 for s in node_size.values()])\n",
    "    plt.show()\n"
   ]
  },
  {
   "cell_type": "code",
   "execution_count": 9,
   "metadata": {},
   "outputs": [],
   "source": [
    "import cv2\n",
    "\n",
    "# Load the pre-trained face detection classifier\n",
    "face_cascade = cv2.CascadeClassifier(cv2.data.haarcascades + 'haarcascade_frontalface_default.xml')\n",
    "\n",
    "# Load the image\n",
    "image = cv2.imread('group-of-multiethnic-students-posing-sitting-on-bench-learning-outside-2CE840M.jpg')\n",
    "\n",
    "# Convert the image to grayscale\n",
    "gray_image = cv2.cvtColor(image, cv2.COLOR_BGR2GRAY)\n",
    "\n",
    "# Detect faces in the grayscale image\n",
    "faces = face_cascade.detectMultiScale(gray_image, scaleFactor=1.3, minNeighbors=5, minSize=(30, 30))\n",
    "\n",
    "# Draw rectangles around the detected faces\n",
    "for (x, y, w, h) in faces:\n",
    "    cv2.rectangle(image, (x, y), (x+w, y+h), (0, 255, 0), 2)\n",
    "\n",
    "# Display the image with detected faces\n",
    "cv2.imshow(\"Detected Faces\", image)\n",
    "cv2.waitKey(0)\n",
    "cv2.destroyAllWindows()"
   ]
  },
  {
   "cell_type": "code",
   "execution_count": 4,
   "metadata": {},
   "outputs": [],
   "source": [
    "from sklearn.cluster import KMeans\n",
    "\n",
    "features = []\n",
    "for (x, y, w, h) in faces:\n",
    "    roi_gray = gray_image[y:y+h, x:x+w]\n",
    "    kmeans = KMeans(n_clusters=2).fit(roi_gray.reshape(-1, 1))\n",
    "    features.append(kmeans.cluster_centers_)"
   ]
  },
  {
   "cell_type": "code",
   "execution_count": 5,
   "metadata": {},
   "outputs": [
    {
     "data": {
      "image/png": "[encoded data removed]",
      "text/plain": [
       "<Figure size 640x480 with 1 Axes>"
      ]
     },
     "metadata": {},
     "output_type": "display_data"
    }
   ],
   "source": [
    "import networkx as nx\n",
    "import matplotlib.pyplot as plt\n",
    "from scipy.spatial.distance import euclidean\n",
    "G = nx.Graph()\n",
    "similarity_threshold = 10 \n",
    "for i in range(len(features)):\n",
    "    for j in range(i+1, len(features)):\n",
    "        feature_i = features[i].reshape(-1)\n",
    "        feature_j = features[j].reshape(-1)\n",
    "        distance = euclidean(feature_i, feature_j)\n",
    "        if distance <= similarity_threshold:\n",
    "            G.add_edge(i, j, weight=distance)\n",
    "\n",
    "# Visualize the network\n",
    "pos = nx.spring_layout(G)  # Layout algorithm for visualization\n",
    "nx.draw(G, pos, with_labels=True, node_size=300)\n",
    "edge_labels = nx.get_edge_attributes(G, 'weight')\n",
    "nx.draw_networkx_edge_labels(G, pos, edge_labels=edge_labels)\n",
    "plt.show()\n"
   ]
  },
  {
   "cell_type": "code",
   "execution_count": null,
   "metadata": {},
   "outputs": [],
   "source": []
  }
 ],
 "metadata": {
  "kernelspec": {
   "display_name": "Python 3",
   "language": "python",
   "name": "python3"
  },
  "language_info": {
   "codemirror_mode": {
    "name": "ipython",
    "version": 3
   },
   "file_extension": ".py",
   "mimetype": "text/x-python",
   "name": "python",
   "nbconvert_exporter": "python",
   "pygments_lexer": "ipython3",
   "version": "3.11.1"
  }
 },
 "nbformat": 4,
 "nbformat_minor": 2
}
