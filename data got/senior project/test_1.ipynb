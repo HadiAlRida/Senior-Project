{
 "cells": [
  {
   "cell_type": "code",
   "execution_count": 1,
   "metadata": {},
   "outputs": [],
   "source": [
    "import cv2\n",
    "import numpy as np\n",
    "\n",
    "# Load the image\n",
    "image = cv2.imread('group-of-multiethnic-students-posing-sitting-on-bench-learning-outside-2CE840M.jpg')\n",
    "\n",
    "# Convert the image to grayscale\n",
    "gray = cv2.cvtColor(image, cv2.COLOR_BGR2GRAY)\n",
    "\n",
    "# Apply Gaussian blur to reduce noise\n",
    "blurred = cv2.GaussianBlur(gray, (5, 5), 0)\n",
    "\n",
    "# Perform edge detection using Canny\n",
    "edges = cv2.Canny(blurred, 50, 150)\n",
    "\n",
    "# Find contours in the edge-detected image\n",
    "contours, _ = cv2.findContours(edges.copy(), cv2.RETR_EXTERNAL, cv2.CHAIN_APPROX_SIMPLE)\n",
    "\n",
    "# Filter contours based on size or other criteria\n",
    "min_size_threshold = 1\n",
    "filtered_contours = [cnt for cnt in contours if cv2.contourArea(cnt) > min_size_threshold]\n",
    "\n",
    "# Draw contours on the original image (optional)\n",
    "cv2.drawContours(image, filtered_contours, -1, (0, 255, 0), 2)\n",
    "\n",
    "# Visualize the result\n",
    "cv2.imshow('Extracted Network', image)\n",
    "cv2.waitKey(0)\n",
    "cv2.destroyAllWindows()\n"
   ]
  },
  {
   "cell_type": "code",
   "execution_count": 7,
   "metadata": {},
   "outputs": [],
   "source": [
    "import cv2\n",
    "import numpy as np\n",
    "\n",
    "# Load the image\n",
    "image = cv2.imread('students.jpg')\n",
    "\n",
    "# Preprocess the image\n",
    "gray = cv2.cvtColor(image, cv2.COLOR_BGR2GRAY)\n",
    "blurred = cv2.GaussianBlur(gray, (5, 5), 0)\n",
    "\n",
    "# Edge Detection\n",
    "edges = cv2.Canny(blurred, 50, 150)\n",
    "\n",
    "# Contour Detection\n",
    "contours, _ = cv2.findContours(edges, cv2.RETR_TREE, cv2.CHAIN_APPROX_SIMPLE)\n",
    "\n",
    "# Filter Contours\n",
    "contours = sorted(contours, key=cv2.contourArea, reverse=True)[:10]\n",
    "\n",
    "# Extract Network\n",
    "for contour in contours:\n",
    "    approx = cv2.approxPolyDP(contour, 0.01 * cv2.arcLength(contour, True), True)\n",
    "    if len(approx) == 4:\n",
    "        cv2.drawContours(image, [approx], 0, (0, 255, 0), 2)\n",
    "\n",
    "# Visualize the Result\n",
    "cv2.imshow('Image with Extracted Network', image)\n",
    "cv2.waitKey(0)\n",
    "cv2.destroyAllWindows()"
   ]
  },
  {
   "cell_type": "code",
   "execution_count": null,
   "metadata": {},
   "outputs": [],
   "source": []
  }
 ],
 "metadata": {
  "kernelspec": {
   "display_name": "Python 3",
   "language": "python",
   "name": "python3"
  },
  "language_info": {
   "codemirror_mode": {
    "name": "ipython",
    "version": 3
   },
   "file_extension": ".py",
   "mimetype": "text/x-python",
   "name": "python",
   "nbconvert_exporter": "python",
   "pygments_lexer": "ipython3",
   "version": "3.11.4"
  }
 },
 "nbformat": 4,
 "nbformat_minor": 2
}
